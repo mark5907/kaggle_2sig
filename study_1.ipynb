{
 "cells": [
  {
   "cell_type": "markdown",
   "metadata": {},
   "source": [
    "look at what triggers a stock to enter and leave the portfolio"
   ]
  },
  {
   "cell_type": "code",
   "execution_count": 2,
   "metadata": {
    "collapsed": false
   },
   "outputs": [
    {
     "name": "stdout",
     "output_type": "stream",
     "text": [
      "Populating the interactive namespace from numpy and matplotlib\n"
     ]
    }
   ],
   "source": [
    "import seaborn as sns\n",
    "%pylab inline"
   ]
  },
  {
   "cell_type": "code",
   "execution_count": 97,
   "metadata": {
    "collapsed": false
   },
   "outputs": [],
   "source": [
    "import pandas as pd\n",
    "import numpy as np \n",
    "import twoSig_comp as ts\n",
    "import data_utils as du\n",
    "\n",
    "from sklearn.linear_model import LogisticRegression"
   ]
  },
  {
   "cell_type": "code",
   "execution_count": 116,
   "metadata": {
    "collapsed": false
   },
   "outputs": [],
   "source": [
    "reload(ts)\n",
    "ss = ts.TwoSig()\n",
    "ss._add_enter_exit_time()\n",
    "df = ss._df"
   ]
  },
  {
   "cell_type": "code",
   "execution_count": 131,
   "metadata": {
    "collapsed": false
   },
   "outputs": [],
   "source": [
    "lg = LogisticRegression(verbose=True)"
   ]
  },
  {
   "cell_type": "code",
   "execution_count": 137,
   "metadata": {
    "collapsed": false
   },
   "outputs": [],
   "source": [
    "feat = [c for c in df if c.startswith('t_')]\n",
    "Xy = df[feat + ['exit_next']].dropna(0)"
   ]
  },
  {
   "cell_type": "code",
   "execution_count": 138,
   "metadata": {
    "collapsed": false
   },
   "outputs": [
    {
     "name": "stdout",
     "output_type": "stream",
     "text": [
      "[LibLinear]"
     ]
    },
    {
     "data": {
      "text/plain": [
       "LogisticRegression(C=1.0, class_weight=None, dual=False, fit_intercept=True,\n",
       "          intercept_scaling=1, max_iter=100, multi_class='ovr', n_jobs=1,\n",
       "          penalty='l2', random_state=None, solver='liblinear', tol=0.0001,\n",
       "          verbose=True, warm_start=False)"
      ]
     },
     "execution_count": 138,
     "metadata": {},
     "output_type": "execute_result"
    }
   ],
   "source": [
    "lg.fit(Xy[feat], Xy['exit_next'])"
   ]
  },
  {
   "cell_type": "code",
   "execution_count": 139,
   "metadata": {
    "collapsed": false
   },
   "outputs": [
    {
     "data": {
      "text/plain": [
       "[(u't_0', 0.71488090623423362),\n",
       " (u't_1', -0.21885645579205784),\n",
       " (u't_2', 0.12376316512286308),\n",
       " (u't_3', -0.1188144818817483),\n",
       " (u't_5', 0.090326034650579673),\n",
       " (u't_6', 0.25718536202928832),\n",
       " (u't_7', 1.0299600626794403),\n",
       " (u't_9', 0.20331307839570087),\n",
       " (u't_10', 0.20243118226679699),\n",
       " (u't_11', 0.81836105467063991),\n",
       " (u't_12', -0.033521629520903963),\n",
       " (u't_13', -0.004996263679359925),\n",
       " (u't_14', 0.42176064119230877),\n",
       " (u't_16', 0.15871038312656682),\n",
       " (u't_17', 0.67737271099798824),\n",
       " (u't_18', -0.29510526638802304),\n",
       " (u't_19', -0.3175920441266043),\n",
       " (u't_20', -0.024569913950720102),\n",
       " (u't_21', -0.84870256806639865),\n",
       " (u't_22', 1.2820315252863683),\n",
       " (u't_24', -0.12126458826790915),\n",
       " (u't_25', -0.29536824612406259),\n",
       " (u't_27', -1.04099355138961),\n",
       " (u't_28', -0.048879548755008675),\n",
       " (u't_29', 0.47853559511314414),\n",
       " (u't_30', 0.016002130430930576),\n",
       " (u't_31', 0.25624722942074363),\n",
       " (u't_32', -0.80683524852392818),\n",
       " (u't_33', -0.75002488786259358),\n",
       " (u't_34', 0.21123364937576419),\n",
       " (u't_35', 0.33857500650597505),\n",
       " (u't_36', -0.39332737262467543),\n",
       " (u't_37', 0.15931066785568576),\n",
       " (u't_38', 0.81606404933666377),\n",
       " (u't_39', -0.042930062272371165),\n",
       " (u't_40', -0.60720346965921845),\n",
       " (u't_41', -0.56874211760496729),\n",
       " (u't_42', 0.035061104007517503),\n",
       " (u't_43', 0.52225590967393265),\n",
       " (u't_44', -0.040112769152407177)]"
      ]
     },
     "execution_count": 139,
     "metadata": {},
     "output_type": "execute_result"
    }
   ],
   "source": [
    "zip( feat, lg.coef_[0])"
   ]
  },
  {
   "cell_type": "code",
   "execution_count": 142,
   "metadata": {
    "collapsed": false
   },
   "outputs": [
    {
     "data": {
      "text/plain": [
       "<matplotlib.collections.PathCollection at 0x119294d90>"
      ]
     },
     "execution_count": 142,
     "metadata": {},
     "output_type": "execute_result"
    },
    {
     "data": {
      "image/png": "[encoded data removed]",
      "text/plain": [
       "<matplotlib.figure.Figure at 0x1201e2210>"
      ]
     },
     "metadata": {},
     "output_type": "display_data"
    }
   ],
   "source": [
    "plt.scatter(df['t_32'], df['exit_next'])"
   ]
  },
  {
   "cell_type": "code",
   "execution_count": 144,
   "metadata": {
    "collapsed": false
   },
   "outputs": [
    {
     "data": {
      "text/plain": [
       "array([-6.34340509])"
      ]
     },
     "execution_count": 144,
     "metadata": {},
     "output_type": "execute_result"
    }
   ],
   "source": [
    "lg.intercept_"
   ]
  },
  {
   "cell_type": "code",
   "execution_count": null,
   "metadata": {
    "collapsed": true
   },
   "outputs": [],
   "source": []
  }
 ],
 "metadata": {
  "kernelspec": {
   "display_name": "Python [Root]",
   "language": "python",
   "name": "Python [Root]"
  },
  "language_info": {
   "codemirror_mode": {
    "name": "ipython",
    "version": 2
   },
   "file_extension": ".py",
   "mimetype": "text/x-python",
   "name": "python",
   "nbconvert_exporter": "python",
   "pygments_lexer": "ipython2",
   "version": "2.7.12"
  }
 },
 "nbformat": 4,
 "nbformat_minor": 0
}
